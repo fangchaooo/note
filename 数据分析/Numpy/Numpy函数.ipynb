{
 "cells": [
  {
   "cell_type": "markdown",
   "metadata": {},
   "source": [
    "# NumPy函数"
   ]
  },
  {
   "cell_type": "markdown",
   "metadata": {},
   "source": [
    "## NumPy随机数函数"
   ]
  },
  {
   "cell_type": "markdown",
   "metadata": {},
   "source": [
    "|函数 |说明|\n",
    "|:---:|:----:|\n",
    "|rand(d0,d1,..,dn)| 根据d0‐dn创建随机数数组，浮点数，[0,1)，均匀分布|\n",
    "|randn(d0,d1,..,dn) |根据d0‐dn创建随机数数组，标准正态分布|\n",
    "|randint(low,high=None,shape=None)| 根据shape创建随机整数或整数数组，范围是[low, high)|\n",
    "|seed(s)| 随机数种子，s是给定的种子值|"
   ]
  },
  {
   "cell_type": "code",
   "execution_count": 10,
   "metadata": {
    "collapsed": true
   },
   "outputs": [],
   "source": [
    "import numpy as np"
   ]
  },
  {
   "cell_type": "code",
   "execution_count": 11,
   "metadata": {
    "collapsed": true
   },
   "outputs": [],
   "source": [
    "a = np.random.rand(3, 4, 5)"
   ]
  },
  {
   "cell_type": "code",
   "execution_count": 12,
   "metadata": {},
   "outputs": [
    {
     "data": {
      "text/plain": [
       "array([[[ 0.82239835,  0.32412659,  0.88271761,  0.08450897,  0.57945785],\n",
       "        [ 0.97914169,  0.63774547,  0.91477663,  0.85168353,  0.01120775],\n",
       "        [ 0.61375286,  0.8769115 ,  0.84282363,  0.82112156,  0.61886474],\n",
       "        [ 0.10588376,  0.46648736,  0.5824641 ,  0.30211801,  0.4468649 ]],\n",
       "\n",
       "       [[ 0.70427845,  0.28024209,  0.52355956,  0.03054462,  0.28569957],\n",
       "        [ 0.60591484,  0.94179923,  0.52813586,  0.29995935,  0.34810796],\n",
       "        [ 0.96659167,  0.61290614,  0.98861378,  0.1579159 ,  0.30740159],\n",
       "        [ 0.42375208,  0.97937442,  0.3352572 ,  0.49785503,  0.80548709]],\n",
       "\n",
       "       [[ 0.94225653,  0.64573155,  0.30995695,  0.98696158,  0.65277137],\n",
       "        [ 0.82980037,  0.88231153,  0.39014964,  0.05273008,  0.10761737],\n",
       "        [ 0.73521139,  0.59870445,  0.54621598,  0.74032087,  0.53567462],\n",
       "        [ 0.21493653,  0.07867816,  0.67966265,  0.64236209,  0.75021786]]])"
      ]
     },
     "execution_count": 12,
     "metadata": {},
     "output_type": "execute_result"
    }
   ],
   "source": [
    "a"
   ]
  },
  {
   "cell_type": "markdown",
   "metadata": {},
   "source": [
    "|函数 |说明|\n",
    "|:----:|:----:|\n",
    "|shuffle(a)| 根据数组a的第1轴进行随排列，改变数组x|\n",
    "|permutation(a)| 根据数组a的第1轴产生一个新的乱序数组，不改变数组x|\n",
    "|choice(a[,size,replace,p])| 从一维数组a中以概率p抽取元素，形成size形状新数组 replace表示是否可以重用元素，默认为False|\n",
    "|uniform(low,high,size)| 产生具有均匀分布的数组,low起始值,high结束值,size形状|\n",
    "|normal(loc,scale,size)| 产生具有正态分布的数组,loc均值,scale标准差,size形状|\n",
    "|poisson(lam,size) |产生具有泊松分布的数组,lam随机事件发生率,size形状|"
   ]
  },
  {
   "cell_type": "markdown",
   "metadata": {},
   "source": [
    "## NumPy的统计函数"
   ]
  },
  {
   "cell_type": "markdown",
   "metadata": {},
   "source": [
    "|函数| 说明|\n",
    "|:--:|:---:|\n",
    "|sum(a, axis=None)| 根据给定轴axis计算数组a相关元素之和，axis整数或元组|\n",
    "|mean(a, axis=None)| 根据给定轴axis计算数组a相关元素的期望，axis整数或元组|\n",
    "|average(a,axis=None,weights=None)| 根据给定轴axis计算数组a相关元素的加权平均值|\n",
    "|std(a, axis=None)| 根据给定轴axis计算数组a相关元素的标准差|\n",
    "|var(a, axis=None)| 根据给定轴axis计算数组a相关元素的方差|\n",
    "|min(a) max(a)| 计算数组a中元素的最小值、最大值\n",
    "|argmin(a) argmax(a)| 计算数组a中元素最小值、最大值的降一维后下标\n",
    "|unravel_index(index, shape)| 根据shape将一维下标index转换成多维下标\n",
    "|ptp(a)| 计算数组a中元素最大值与最小值的差\n",
    "|median(a)| 计算数组a中元素的中位数（中值）"
   ]
  },
  {
   "cell_type": "markdown",
   "metadata": {},
   "source": [
    "## NumPy梯度函数"
   ]
  },
  {
   "cell_type": "markdown",
   "metadata": {},
   "source": [
    "np.gradient(f) 计算数组f中元素的梯度，当f为多维时，返回每个维度梯度\n",
    "\n",
    "\n",
    "梯度：连续值之间的变化率，即斜率\n",
    "\n",
    "\n",
    "XY坐标轴连续三个X坐标对应的Y轴值：a, b, c，其中，b的梯度是： (c‐a)/2"
   ]
  },
  {
   "cell_type": "code",
   "execution_count": 16,
   "metadata": {},
   "outputs": [
    {
     "data": {
      "text/plain": [
       "array([ 9,  9, 10,  9,  8])"
      ]
     },
     "execution_count": 16,
     "metadata": {},
     "output_type": "execute_result"
    }
   ],
   "source": [
    "import numpy as np\n",
    "a = np.random.randint(0, 20, (5))\n",
    "a"
   ]
  },
  {
   "cell_type": "code",
   "execution_count": 17,
   "metadata": {},
   "outputs": [
    {
     "data": {
      "text/plain": [
       "array([ 0. ,  0.5,  0. , -1. , -1. ])"
      ]
     },
     "execution_count": 17,
     "metadata": {},
     "output_type": "execute_result"
    }
   ],
   "source": [
    "np.gradient(a)"
   ]
  },
  {
   "cell_type": "code",
   "execution_count": null,
   "metadata": {
    "collapsed": true
   },
   "outputs": [],
   "source": []
  }
 ],
 "metadata": {
  "kernelspec": {
   "display_name": "Python 3",
   "language": "python",
   "name": "python3"
  },
  "language_info": {
   "codemirror_mode": {
    "name": "ipython",
    "version": 3
   },
   "file_extension": ".py",
   "mimetype": "text/x-python",
   "name": "python",
   "nbconvert_exporter": "python",
   "pygments_lexer": "ipython3",
   "version": "3.6.3"
  }
 },
 "nbformat": 4,
 "nbformat_minor": 2
}
